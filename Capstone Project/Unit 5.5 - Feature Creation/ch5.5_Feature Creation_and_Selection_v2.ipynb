{
 "cells": [
  {
   "cell_type": "markdown",
   "metadata": {},
   "source": [
    "<a id='Top'></a>\n",
    "\n",
    "# Intermediate Step - Feature Creation\n",
    "\n",
    "\n",
    "                                                   By: Jun Ho Lee\n",
    "                                                   \n",
    "___\n"
   ]
  },
  {
   "cell_type": "markdown",
   "metadata": {},
   "source": [
    "<a id='Table of Contents'></a>\n",
    "## Table of Contents\n",
    "\n",
    "1. <a href='#Import Dataset'>Importing the Cleaned Dataset</a>\n",
    "2. <a href='#Interactivity Introduction'>Introducing Interactivity with Plotly</a>\n",
    "\n",
    "\n",
    "<a href='#Top'>Back to Top</a>"
   ]
  },
  {
   "cell_type": "markdown",
   "metadata": {},
   "source": [
    "<a id='Import Dataset'></a>\n",
    "____\n",
    "### 1. Importing the Cleaned Dataset\n",
    "\n",
    "Using the cleaned parameters saved in JSON format, we will load in the cleaned dataset that was saved from the previous notebook. \n"
   ]
  },
  {
   "cell_type": "markdown",
   "metadata": {},
   "source": [
    "\n",
    "**A. Import Necessary Libraries:**\n"
   ]
  },
  {
   "cell_type": "code",
   "execution_count": 1,
   "metadata": {},
   "outputs": [],
   "source": [
    "import numpy as np\n",
    "import pandas as pd\n",
    "import json\n",
    "import matplotlib.pyplot as plt\n",
    "import seaborn as sns\n",
    "# # set option to see all the columns\n",
    "pd.set_option('display.max_columns', 50)\n",
    "\n",
    "# # suppress scientific notation\n",
    "pd.set_option('display.float_format', lambda x: '%.5f' % x)\n"
   ]
  },
  {
   "cell_type": "markdown",
   "metadata": {},
   "source": [
    "**B. Read in JSON file to extract parameters:**"
   ]
  },
  {
   "cell_type": "code",
   "execution_count": 2,
   "metadata": {},
   "outputs": [],
   "source": [
    "# Import JSON file for column information extraction \n",
    "\n",
    "with open('data/H-1B_Cleaned_Params.json', 'r') as fp:\n",
    "    h1b_params = json.load(fp)\n",
    "\n",
    "final_cols = h1b_params['final_cols']\n",
    "column_types = h1b_params['col_types']\n",
    "date_columns = h1b_params['date_cols']"
   ]
  },
  {
   "cell_type": "markdown",
   "metadata": {},
   "source": [
    "**C. Read in csv file**"
   ]
  },
  {
   "cell_type": "code",
   "execution_count": 3,
   "metadata": {},
   "outputs": [],
   "source": [
    "h1b_df = pd.read_csv(\"data/H-1B_Cleaned_Dataset.csv\", usecols = final_cols, dtype=column_types, low_memory=False, parse_dates=date_columns, infer_datetime_format=True)"
   ]
  },
  {
   "cell_type": "markdown",
   "metadata": {},
   "source": [
    "**D. Verify Memory Usage and column data types**"
   ]
  },
  {
   "cell_type": "code",
   "execution_count": 4,
   "metadata": {},
   "outputs": [],
   "source": [
    "# # Memory Usage \n",
    "# h1b_df.info(memory_usage='deep')\n",
    "\n",
    "# # Columns\n",
    "# h1b_df.columns\n",
    "\n",
    "# # Column dtypes\n",
    "# h1b_df.dtypes"
   ]
  },
  {
   "cell_type": "markdown",
   "metadata": {},
   "source": [
    "<a href='#Table of Contents'>Back to Table of Contents</a>"
   ]
  },
  {
   "cell_type": "markdown",
   "metadata": {},
   "source": [
    "<a id='Feature Creation'></a>\n",
    "____\n",
    "### 2. Feature Selection / Creation - Introduction\n",
    "\n",
    "For machine learning algorithms to perform well and be generalizable, a single feature shouldn't have too may factors. Using ***ipywidgets*** interactivity feature, we will quickly look through each categorical column to see how many *unique* values each column (feature) has and the *value_counts* of that column.\n",
    "\n"
   ]
  },
  {
   "cell_type": "markdown",
   "metadata": {},
   "source": [
    "**A. Import ipywidgets interactivity library**"
   ]
  },
  {
   "cell_type": "code",
   "execution_count": 5,
   "metadata": {},
   "outputs": [],
   "source": [
    "from IPython.display import Image, display, HTML\n",
    "import ipywidgets as widgets\n",
    "from ipywidgets import interact, interact_manual\n",
    "# import plotly\n",
    "# import plotly.graph_objects as go\n",
    "# import plotly.express as px  # # px only works with tidy datasets"
   ]
  },
  {
   "cell_type": "markdown",
   "metadata": {},
   "source": [
    "**B. Using ipywidgets to interactively explore the dataset**\n",
    "\n",
    "**Purpose:** Outputs ***Description*** of a column of your choosing."
   ]
  },
  {
   "cell_type": "code",
   "execution_count": 6,
   "metadata": {},
   "outputs": [
    {
     "data": {
      "application/vnd.jupyter.widget-view+json": {
       "model_id": "87af98d95a2141ccb580dab79a3a35c3",
       "version_major": 2,
       "version_minor": 0
      },
      "text/plain": [
       "interactive(children=(Dropdown(description='column', options=('CASE_STATUS', 'VISA_CLASS', 'EMPLOYER_NAME', 'E…"
      ]
     },
     "metadata": {},
     "output_type": "display_data"
    }
   ],
   "source": [
    "@interact\n",
    "def describe(column=list(h1b_df.select_dtypes(include=['category','object']).columns)):\n",
    "    print(h1b_df[column].describe())"
   ]
  },
  {
   "cell_type": "markdown",
   "metadata": {},
   "source": [
    "**Purpose:** Output the ***value_counts*** of a column of your choosing."
   ]
  },
  {
   "cell_type": "code",
   "execution_count": 7,
   "metadata": {},
   "outputs": [
    {
     "data": {
      "application/vnd.jupyter.widget-view+json": {
       "model_id": "3f3fdbfa388f4ec5bdc90254006aebbe",
       "version_major": 2,
       "version_minor": 0
      },
      "text/plain": [
       "interactive(children=(Dropdown(description='column', options=('CASE_STATUS', 'VISA_CLASS', 'EMPLOYER_NAME', 'E…"
      ]
     },
     "metadata": {},
     "output_type": "display_data"
    }
   ],
   "source": [
    "@interact\n",
    "def value_counts(column=list(h1b_df.select_dtypes(include=['category','object']).columns)):\n",
    "    print(h1b_df[column].value_counts())"
   ]
  },
  {
   "cell_type": "markdown",
   "metadata": {},
   "source": [
    " **Observations:** Going through all the categorical and object columns, we can see that most of the columns have 100 or less unique values. Some columns however have hundreds of unique values. The presence of hundreds of unique values will later affect our machine learning models to generalize, leading to serious overfitting issues. Therefore we need to categorize these values into distinct non-overlapping categories. Here is a list of columns that have over 100 unique values and what I intend to do with them:"
   ]
  },
  {
   "cell_type": "markdown",
   "metadata": {},
   "source": [
    "1. `EMPLOYER_NAME` (68992 unique values): \n",
    "2. `EMPLOYER_POSTAL_CODE` (10568 unique values): delete column since information is already preserved in `EMPLOYER_STATE_MAPPED` column. \n",
    "3. `SOC_CODE`* (736 unique values): Categorize into x different *occupations* based on the nature of the job (inspired by [Datacamp Post](https://www.datacamp.com/community/tutorials/predicting-H-1B-visa-status-python) but referred to [SOC Code Manual](https://www.bls.gov/soc/2018/soc_2018_manual.pdf))\n",
    "4. `NAICS_CODE` (2026 unique values): categorize according to [NAICS Code Manual](https://www.census.gov/eos/www/naics/2017NAICS/2017_NAICS_Manual.pdf)\n",
    "5. `WORKSITE_POSTAL_CODE` (14660 unique values): delete column as information preserved in `WORKSITE_STATE` column.  \n",
    "\n",
    "\n",
    "**`SOC_NAME`* is the job title category that Department of Labor uses to classify the nominal `JOB_TITLE`s.**"
   ]
  },
  {
   "cell_type": "markdown",
   "metadata": {},
   "source": [
    "<a href='#Table of Contents'>Back to Table of Contents</a>"
   ]
  },
  {
   "cell_type": "markdown",
   "metadata": {},
   "source": [
    "<a id='Drop Columns'></a>\n",
    "____\n",
    "### 2a. Feature Selection / Creation - Part 1\n",
    "\n",
    "##### Dropping `EMPLOYER_POSTAL_CODE` and `WORKSITE_POSTAL_CODE` \n"
   ]
  },
  {
   "cell_type": "markdown",
   "metadata": {},
   "source": [
    "**A. Drop `POSTAL_CODE` columns**"
   ]
  },
  {
   "cell_type": "code",
   "execution_count": 8,
   "metadata": {},
   "outputs": [
    {
     "data": {
      "text/plain": [
       "(616065, 21)"
      ]
     },
     "execution_count": 8,
     "metadata": {},
     "output_type": "execute_result"
    }
   ],
   "source": [
    "h1b_dviz_v1 = h1b_df.drop(['EMPLOYER_POSTAL_CODE','WORKSITE_POSTAL_CODE'], axis=1)\n",
    "\n",
    "# # Verification\n",
    "h1b_dviz_v1.shape"
   ]
  },
  {
   "cell_type": "markdown",
   "metadata": {},
   "source": [
    "<a href='#Table of Contents'>Back to Table of Contents</a>"
   ]
  },
  {
   "cell_type": "markdown",
   "metadata": {},
   "source": [
    "<a id='Drop Columns'></a>\n",
    "____\n",
    "### 2a. Feature Selection / Creation - Part 2\n",
    "\n",
    "##### Categorizing `SOC_CODE`\n",
    "\n",
    "According to the official government manual on [`SOC-CODE`](https://www.bls.gov/soc/2018/soc_2018_manual.pdf), there are 23 major groups which are further divided into 98 minor groups $\\rightarrow$ 459 broad occupations $\\rightarrow$ and finally 867 detailed occupations. Major groups and minor groups are separated by hyphens ('-'). All major groups are odd-numbered and cannot contain any strings. All codes should be 6 digits total (2 digits - 4 digits). Any code that does not adhere to the template above is an invalid code. To get clean codes, we therefore need to clean the column a little bit. \n"
   ]
  },
  {
   "cell_type": "markdown",
   "metadata": {},
   "source": [
    "**A. Initial Investigation**"
   ]
  },
  {
   "cell_type": "code",
   "execution_count": 9,
   "metadata": {},
   "outputs": [],
   "source": [
    "# # Copy of original h1b_dviz_v1 into h1b_dviz_v2 to save the cleaned column\n",
    "h1b_dviz_v2 = h1b_dviz_v1.copy()\n",
    "\n",
    "# # Change dtype to string because working with categoricals is hard (adding and removing categories is cumbersome)\n",
    "h1b_dviz_v2['SOC_CODE'] = h1b_dviz_v2.SOC_CODE.astype(str)\n",
    "\n",
    "# # Investigate unique elements of the column (commented out to save space)\n",
    "# h1b_dviz_v2.SOC_CODE.unique()"
   ]
  },
  {
   "cell_type": "markdown",
   "metadata": {},
   "source": [
    "**B. Selecting out first 7 characters to return (xx-xxxx) format**"
   ]
  },
  {
   "cell_type": "code",
   "execution_count": 10,
   "metadata": {},
   "outputs": [],
   "source": [
    "# # Return first 7 charactrs\n",
    "h1b_dviz_v2.SOC_CODE = h1b_dviz_v1.SOC_CODE.str[:7]"
   ]
  },
  {
   "cell_type": "markdown",
   "metadata": {},
   "source": [
    "**C. Dropping those rows where the third element of SOC_CODE is not a hyphen**\n",
    "\n",
    "- will eliminate any code with strings or with invalid delimiters\n",
    "- notice the not (~) operator in the code"
   ]
  },
  {
   "cell_type": "code",
   "execution_count": 11,
   "metadata": {},
   "outputs": [
    {
     "data": {
      "text/plain": [
       "(615465, 21)"
      ]
     },
     "execution_count": 11,
     "metadata": {},
     "output_type": "execute_result"
    }
   ],
   "source": [
    "# # third element is in [2] position\n",
    "invalid_soc_code_idx = np.where(~(h1b_dviz_v2.SOC_CODE.str[2] == '-'))[0]\n",
    "\n",
    "# # Drop the invalid indices and reset the index! \n",
    "h1b_dviz_v2 = h1b_dviz_v2.drop(invalid_soc_code_idx)\n",
    "h1b_dviz_v2b = h1b_dviz_v2.reset_index(drop=True)\n",
    "\n",
    "# # check that the rows were dropped (original length: 654360)\n",
    "h1b_dviz_v2b.shape"
   ]
  },
  {
   "cell_type": "markdown",
   "metadata": {},
   "source": [
    "**D. Replacing Invalid Delimiters to zero**\n",
    "\n",
    "[Reference](https://stackoverflow.com/questions/3411771/best-way-to-replace-multiple-characters-in-a-string)"
   ]
  },
  {
   "cell_type": "code",
   "execution_count": 12,
   "metadata": {},
   "outputs": [],
   "source": [
    "# # Replace invalid delimiters to 0 ('0')\n",
    "h1b_dviz_v2b.SOC_CODE = h1b_dviz_v2b.SOC_CODE.str.replace('.','0')\n",
    "# h1b_dviz_v2.SOC_CODE.unique()"
   ]
  },
  {
   "cell_type": "markdown",
   "metadata": {},
   "source": [
    "**E. Deleting Invalid major group codes**\n",
    "\n",
    "- even numbered codes\n",
    "- code must be within 11.0000 and 55.0000 (thus major group should be an odd number between 11 and 55\n"
   ]
  },
  {
   "cell_type": "code",
   "execution_count": 13,
   "metadata": {},
   "outputs": [],
   "source": [
    "# # Parse out major codes\n",
    "h1b_dviz_v2b['SOC_MAJOR_GROUP'] = h1b_dviz_v2b.SOC_CODE.str[:2]\n",
    "h1b_dviz_v2b['SOC_MAJOR_GROUP'] = pd.to_numeric(h1b_dviz_v2b['SOC_MAJOR_GROUP'])\n",
    "\n",
    "# # Picking out the invalid major codes\n",
    "even_soc = np.where(h1b_dviz_v2b['SOC_MAJOR_GROUP'] % 2 == 0)[0]\n",
    "invalid_soc = np.where((h1b_dviz_v2b['SOC_MAJOR_GROUP'] > 55) | (h1b_dviz_v2b['SOC_MAJOR_GROUP'] < 11))[0]\n",
    "\n",
    "all_invalid = np.concatenate((even_soc, invalid_soc))\n"
   ]
  },
  {
   "cell_type": "code",
   "execution_count": 14,
   "metadata": {},
   "outputs": [],
   "source": [
    "# # Dropping the invalid index and resetting the indes\n",
    "h1b_dviz_v2b = h1b_dviz_v2b.drop(all_invalid)\n",
    "h1b_dviz_v2c = h1b_dviz_v2b.reset_index(drop=True)\n",
    "\n",
    "# # convert SOC_MAJOR_GROUP back to string\n",
    "h1b_dviz_v2c['SOC_MAJOR_GROUP'] = h1b_dviz_v2c['SOC_MAJOR_GROUP'].astype('str')\n"
   ]
  },
  {
   "cell_type": "code",
   "execution_count": 21,
   "metadata": {},
   "outputs": [
    {
     "data": {
      "text/plain": [
       "(615463, 22)"
      ]
     },
     "execution_count": 21,
     "metadata": {},
     "output_type": "execute_result"
    }
   ],
   "source": [
    "# # check that the rows were dropped (original length: 654360)\n",
    "h1b_dviz_v2c.shape"
   ]
  },
  {
   "cell_type": "markdown",
   "metadata": {},
   "source": [
    "**F. Mapping SOC codes into occupations for better intepretation**\n",
    "\n",
    "Mapping is as follows: (Major Groups) - Refer to the [SOC-CODE Manual](https://www.bls.gov/soc/2018/soc_2018_manual.pdf)\n",
    "\n",
    "- 11: Management Occupations\n",
    "- 13: Business and Financial Operations Occupations\n",
    "- 15: Computer and Mathematical Occupations\n",
    "- 17: Architecture and Engineering Occupations\n",
    "- 19: Life, Physical, and Social Science Occupations\n",
    "- 21: Community and Social Service Occupations\n",
    "- 23: Legal Occupations\n",
    "- 25: Educational Instruction and Library Occupations\n",
    "- 27: Arts, Design, Entertainment, Sports, and Media Occupations\n",
    "- 29 Healthcare Practitioners and Technical Occupations\n",
    "- 31: Healthcare Support Occupations\n",
    "- 33: Protective Service Occupations\n",
    "- 35: Food Preparation and Serving Related Occupations\n",
    "- 37: Building and Grounds Cleaning and Maintenance Occupations\n",
    "- 39: Personal Care and Service Occupations\n",
    "- 41: Sales and Related Occupations\n",
    "- 43: Office and Administrative Support Occupations\n",
    "- 45: Farming, Fishing, and Forestry Occupations\n",
    "- 47: Construction and Extraction Occupations\n",
    "- 49: Installation, Maintenance, and Repair Occupations\n",
    "- 51: Production Occupations\n",
    "- 53: Transportation and Material Moving Occupations\n",
    "- 55: Military Specific Occupations \n",
    "\n"
   ]
  },
  {
   "cell_type": "code",
   "execution_count": 22,
   "metadata": {},
   "outputs": [],
   "source": [
    "soc_map_dict = {\"11\": \"Management Occupations\",\n",
    "\"13\": \"Business and Financial Operations Occupations\",\n",
    "\"15\": \"Computer and Mathematical Occupations\",\n",
    "\"17\": \"Architecture and Engineering Occupations\",\n",
    "\"19\": \"Life, Physical, and Social Science Occupations\",\n",
    "\"21\": \"Community and Social Service Occupations\",\n",
    "\"23\": \"Legal Occupations\",\n",
    "\"25\": \"Educational Instruction and Library Occupations\",\n",
    "\"27\": \"Arts, Design, Entertainment, Sports, and Media Occupations\",\n",
    "\"29\": \"Healthcare Practitioners and Technical Occupations\",\n",
    "\"31\": \"Healthcare Support Occupations\",\n",
    "\"33\": \"Protective Service Occupations\",\n",
    "\"35\": \"Food Preparation and Serving Related Occupations\",\n",
    "\"37\": \"Building and Grounds Cleaning and Maintenance Occupations\",\n",
    "\"39\": \"Personal Care and Service Occupations\",\n",
    "\"41\": \"Sales and Related Occupations\",\n",
    "\"43\": \"Office and Administrative Support Occupations\",\n",
    "\"45\": \"Farming, Fishing, and Forestry Occupations\",\n",
    "\"47\": \"Construction and Extraction Occupations\",\n",
    "\"49\": \"Installation, Maintenance, and Repair Occupations\",\n",
    "\"51\": \"Production Occupations\",\n",
    "\"53\": \"Transportation and Material Moving Occupations\",\n",
    "\"55\": \"Military Specific Occupations\"}"
   ]
  },
  {
   "cell_type": "code",
   "execution_count": 23,
   "metadata": {},
   "outputs": [
    {
     "data": {
      "text/html": [
       "<div>\n",
       "<style scoped>\n",
       "    .dataframe tbody tr th:only-of-type {\n",
       "        vertical-align: middle;\n",
       "    }\n",
       "\n",
       "    .dataframe tbody tr th {\n",
       "        vertical-align: top;\n",
       "    }\n",
       "\n",
       "    .dataframe thead th {\n",
       "        text-align: right;\n",
       "    }\n",
       "</style>\n",
       "<table border=\"1\" class=\"dataframe\">\n",
       "  <thead>\n",
       "    <tr style=\"text-align: right;\">\n",
       "      <th></th>\n",
       "      <th>CASE_STATUS</th>\n",
       "      <th>CASE_SUBMITTED</th>\n",
       "      <th>DECISION_DATE</th>\n",
       "      <th>VISA_CLASS</th>\n",
       "      <th>EMPLOYMENT_START_DATE</th>\n",
       "      <th>EMPLOYMENT_END_DATE</th>\n",
       "      <th>EMPLOYER_NAME</th>\n",
       "      <th>EMPLOYER_STATE_MAPPED</th>\n",
       "      <th>AGENT_REPRESENTING_EMPLOYER</th>\n",
       "      <th>SOC_CODE</th>\n",
       "      <th>NAICS_CODE</th>\n",
       "      <th>FULL_TIME_POSITION</th>\n",
       "      <th>PW_UNIT_OF_PAY</th>\n",
       "      <th>PW_WAGE_LEVEL</th>\n",
       "      <th>WAGE_UNIT_OF_PAY</th>\n",
       "      <th>H1B_DEPENDENT</th>\n",
       "      <th>WILLFUL_VIOLATOR</th>\n",
       "      <th>WORKSITE_STATE</th>\n",
       "      <th>NORMALIZED_PW</th>\n",
       "      <th>NORMALIZED_WAGE_FROM</th>\n",
       "      <th>NORMALIZED_WAGE_TO</th>\n",
       "      <th>SOC_MAJOR_GROUP</th>\n",
       "    </tr>\n",
       "  </thead>\n",
       "  <tbody>\n",
       "    <tr>\n",
       "      <th>0</th>\n",
       "      <td>CERTIFIED</td>\n",
       "      <td>2018-01-29</td>\n",
       "      <td>2018-02-02</td>\n",
       "      <td>H-1B</td>\n",
       "      <td>2018-07-28</td>\n",
       "      <td>2021-07-27</td>\n",
       "      <td>MICROSOFT CORPORATION</td>\n",
       "      <td>WA</td>\n",
       "      <td>N</td>\n",
       "      <td>15-1132</td>\n",
       "      <td>51121</td>\n",
       "      <td>Y</td>\n",
       "      <td>Year</td>\n",
       "      <td>Level II</td>\n",
       "      <td>Year</td>\n",
       "      <td>N</td>\n",
       "      <td>N</td>\n",
       "      <td>WA</td>\n",
       "      <td>112549.00000</td>\n",
       "      <td>143915.00000</td>\n",
       "      <td>143915.00000</td>\n",
       "      <td>Computer and Mathematical Occupations</td>\n",
       "    </tr>\n",
       "    <tr>\n",
       "      <th>1</th>\n",
       "      <td>CERTIFIED</td>\n",
       "      <td>2017-10-23</td>\n",
       "      <td>2017-10-27</td>\n",
       "      <td>H-1B</td>\n",
       "      <td>2017-11-06</td>\n",
       "      <td>2020-11-06</td>\n",
       "      <td>ERNST &amp; YOUNG U.S. LLP</td>\n",
       "      <td>NJ</td>\n",
       "      <td>Y</td>\n",
       "      <td>13-2011</td>\n",
       "      <td>541211</td>\n",
       "      <td>Y</td>\n",
       "      <td>Year</td>\n",
       "      <td>Level II</td>\n",
       "      <td>Year</td>\n",
       "      <td>N</td>\n",
       "      <td>N</td>\n",
       "      <td>CA</td>\n",
       "      <td>79976.00000</td>\n",
       "      <td>100000.00000</td>\n",
       "      <td>100000.00000</td>\n",
       "      <td>Business and Financial Operations Occupations</td>\n",
       "    </tr>\n",
       "    <tr>\n",
       "      <th>2</th>\n",
       "      <td>CERTIFIED</td>\n",
       "      <td>2018-08-30</td>\n",
       "      <td>2018-09-06</td>\n",
       "      <td>H-1B</td>\n",
       "      <td>2018-09-10</td>\n",
       "      <td>2021-09-09</td>\n",
       "      <td>LOGIXHUB LLC</td>\n",
       "      <td>TX</td>\n",
       "      <td>N</td>\n",
       "      <td>15-1141</td>\n",
       "      <td>541511</td>\n",
       "      <td>Y</td>\n",
       "      <td>Year</td>\n",
       "      <td>Level II</td>\n",
       "      <td>Year</td>\n",
       "      <td>N</td>\n",
       "      <td>N</td>\n",
       "      <td>TX</td>\n",
       "      <td>77792.00000</td>\n",
       "      <td>78240.00000</td>\n",
       "      <td>78240.00000</td>\n",
       "      <td>Computer and Mathematical Occupations</td>\n",
       "    </tr>\n",
       "  </tbody>\n",
       "</table>\n",
       "</div>"
      ],
      "text/plain": [
       "  CASE_STATUS CASE_SUBMITTED DECISION_DATE VISA_CLASS EMPLOYMENT_START_DATE  \\\n",
       "0   CERTIFIED     2018-01-29    2018-02-02       H-1B            2018-07-28   \n",
       "1   CERTIFIED     2017-10-23    2017-10-27       H-1B            2017-11-06   \n",
       "2   CERTIFIED     2018-08-30    2018-09-06       H-1B            2018-09-10   \n",
       "\n",
       "  EMPLOYMENT_END_DATE           EMPLOYER_NAME EMPLOYER_STATE_MAPPED  \\\n",
       "0          2021-07-27   MICROSOFT CORPORATION                    WA   \n",
       "1          2020-11-06  ERNST & YOUNG U.S. LLP                    NJ   \n",
       "2          2021-09-09            LOGIXHUB LLC                    TX   \n",
       "\n",
       "  AGENT_REPRESENTING_EMPLOYER SOC_CODE NAICS_CODE FULL_TIME_POSITION  \\\n",
       "0                           N  15-1132      51121                  Y   \n",
       "1                           Y  13-2011     541211                  Y   \n",
       "2                           N  15-1141     541511                  Y   \n",
       "\n",
       "  PW_UNIT_OF_PAY PW_WAGE_LEVEL WAGE_UNIT_OF_PAY H1B_DEPENDENT  \\\n",
       "0           Year      Level II             Year             N   \n",
       "1           Year      Level II             Year             N   \n",
       "2           Year      Level II             Year             N   \n",
       "\n",
       "  WILLFUL_VIOLATOR WORKSITE_STATE  NORMALIZED_PW  NORMALIZED_WAGE_FROM  \\\n",
       "0                N             WA   112549.00000          143915.00000   \n",
       "1                N             CA    79976.00000          100000.00000   \n",
       "2                N             TX    77792.00000           78240.00000   \n",
       "\n",
       "   NORMALIZED_WAGE_TO                                SOC_MAJOR_GROUP  \n",
       "0        143915.00000          Computer and Mathematical Occupations  \n",
       "1        100000.00000  Business and Financial Operations Occupations  \n",
       "2         78240.00000          Computer and Mathematical Occupations  "
      ]
     },
     "execution_count": 23,
     "metadata": {},
     "output_type": "execute_result"
    }
   ],
   "source": [
    "h1b_dviz_v2c['SOC_MAJOR_GROUP'] = h1b_dviz_v2c['SOC_MAJOR_GROUP'].map(soc_map_dict)\n",
    "h1b_dviz_v2c.head(3)"
   ]
  },
  {
   "cell_type": "markdown",
   "metadata": {},
   "source": [
    "<a href='#Table of Contents'>Back to Table of Contents</a>"
   ]
  },
  {
   "cell_type": "markdown",
   "metadata": {},
   "source": [
    "<a id='NAICS_CODE'></a>\n",
    "____\n",
    "### 2b. Feature Selection / Creation - Part 2\n",
    "\n",
    "##### Categorizing `NAICS_CODE`\n",
    "\n",
    "Analagous to the `SOC_CODE`, `NAICS_CODE` classifies companies into different industries based on the similartiy of production processes. According to the official government manual on [`NAICS-CODE`](https://www.census.gov/eos/www/naics/2017NAICS/2017_NAICS_Manual.pdf), NAICS_CODE is divided into 20 broad Sections, 88 Divisions, 238 Groups and 420 Classes.\n",
    "\n",
    "Also analaglous to the `SOC_CODE`, the first two digits of the code represent the\n",
    "NAICS sectors that represent the general categories of economic activities. Therefore, I will classify all companies into the 20 different sectors. The mapping is as follows: \n",
    "\n",
    "- 11: Agriculture, Forestry, Fishing and Hunting\n",
    "- 21: Mining, Quarrying, and Oil and Gas Extraction\n",
    "- 22: Utilities\n",
    "- 23: Construction\n",
    "- 31-33: Manufacturing\n",
    "- 42: Wholesale Trade\n",
    "- 44-45: Retail Trade\n",
    "- 48-49 Transportation and Warehousing\n",
    "- 51: Information\n",
    "- 52: Finance and Insurance\n",
    "- 53: Real Estate and Rental and Leasing\n",
    "- 54: Professional, Scientific, and Technical Services\n",
    "- 55: Management of Companies and Enterprises\n",
    "- 56: Administrative and Support and Waste Management and Remediation Services\n",
    "- 61: Educational Services\n",
    "- 62: Health Care and Social Assistance\n",
    "- 71: Arts, Entertainment, and Recreation\n",
    "- 72: Accommodation and Food Services\n",
    "- 81: Other Services (except Public Administration)\n",
    "- 92: Public Administration\n"
   ]
  },
  {
   "cell_type": "markdown",
   "metadata": {},
   "source": [
    "**A. Initial Investigation**\n",
    "\n",
    "- Initial Investigation reveals that there are some invalud NAICS_CODEs that are in the dataset. We will drop those rows from the dataset. "
   ]
  },
  {
   "cell_type": "code",
   "execution_count": 33,
   "metadata": {},
   "outputs": [
    {
     "data": {
      "text/plain": [
       "(615457, 23)"
      ]
     },
     "execution_count": 33,
     "metadata": {},
     "output_type": "execute_result"
    }
   ],
   "source": [
    "# # Copy of original h1b_dviz_v2 into h1b_dviz_v3 to save the cleaned column\n",
    "h1b_dviz_v3 = h1b_dviz_v2c.copy()\n",
    "\n",
    "h1b_dviz_v3['NAICS_BROAD'] = h1b_dviz_v3.NAICS_CODE.str[:2]  # Broad Sectors\n",
    "invalid_naics = np.where(h1b_dviz_v3['NAICS_BROAD'].isin(['10','12','19','15','13','99']))[0]\n",
    "\n",
    "h1b_dviz_v3 = h1b_dviz_v3.drop(invalid_naics)\n",
    "h1b_dviz_v3b = h1b_dviz_v3.reset_index(drop=True)\n",
    "\n",
    "# # Verification \n",
    "h1b_dviz_v3b.shape"
   ]
  },
  {
   "cell_type": "markdown",
   "metadata": {},
   "source": [
    "**B. Mapping NAICS_CODE back into industries for better intepretation**\n"
   ]
  },
  {
   "cell_type": "code",
   "execution_count": 35,
   "metadata": {},
   "outputs": [],
   "source": [
    "naics_code_dict = {\"11\": \"Agriculture, Forestry, Fishing and Hunting\",\n",
    "\"21\": \"Mining, Quarrying, and Oil and Gas Extraction\",\n",
    "\"22\": \"Utilities\",\n",
    "\"23\": \"Construction\",\n",
    "\"31\": \"Manufacturing\",\n",
    "\"32\": \"Manufacturing\",\n",
    "\"33\": \"Manufacturing\",\n",
    "\"42\": \"Wholesale Trade\",\n",
    "\"44\": \"Retail Trade\",\n",
    "\"45\": \"Retail Trade\",\n",
    "\"48\": \"Transportation and Warehousing\",\n",
    "\"49\": \"Transportation and Warehousing\",\n",
    "\"51\": \"Information\",\n",
    "\"52\": \"Finance and Insurance\",\n",
    "\"53\": \"Real Estate and Rental and Leasing\",\n",
    "\"54\": \"Professional, Scientific, and Technical Services\",\n",
    "\"55\": \"Management of Companies and Enterprises\",\n",
    "\"56\": \"Administrative and Support and Waste Management and Remediation Services\",\n",
    "\"61\": \"Educational Services\",\n",
    "\"62\": \"Health Care and Social Assistance\",\n",
    "\"71\": \"Arts, Entertainment, and Recreation\",\n",
    "\"72\": \"Accommodation and Food Services\",\n",
    "\"81\": \"Other Services (except Public Administration)\",\n",
    "\"92\": \"Public Administration\"}"
   ]
  },
  {
   "cell_type": "code",
   "execution_count": 36,
   "metadata": {},
   "outputs": [
    {
     "data": {
      "text/html": [
       "<div>\n",
       "<style scoped>\n",
       "    .dataframe tbody tr th:only-of-type {\n",
       "        vertical-align: middle;\n",
       "    }\n",
       "\n",
       "    .dataframe tbody tr th {\n",
       "        vertical-align: top;\n",
       "    }\n",
       "\n",
       "    .dataframe thead th {\n",
       "        text-align: right;\n",
       "    }\n",
       "</style>\n",
       "<table border=\"1\" class=\"dataframe\">\n",
       "  <thead>\n",
       "    <tr style=\"text-align: right;\">\n",
       "      <th></th>\n",
       "      <th>CASE_STATUS</th>\n",
       "      <th>CASE_SUBMITTED</th>\n",
       "      <th>DECISION_DATE</th>\n",
       "      <th>VISA_CLASS</th>\n",
       "      <th>EMPLOYMENT_START_DATE</th>\n",
       "      <th>EMPLOYMENT_END_DATE</th>\n",
       "      <th>EMPLOYER_NAME</th>\n",
       "      <th>EMPLOYER_STATE_MAPPED</th>\n",
       "      <th>AGENT_REPRESENTING_EMPLOYER</th>\n",
       "      <th>SOC_CODE</th>\n",
       "      <th>NAICS_CODE</th>\n",
       "      <th>FULL_TIME_POSITION</th>\n",
       "      <th>PW_UNIT_OF_PAY</th>\n",
       "      <th>PW_WAGE_LEVEL</th>\n",
       "      <th>WAGE_UNIT_OF_PAY</th>\n",
       "      <th>H1B_DEPENDENT</th>\n",
       "      <th>WILLFUL_VIOLATOR</th>\n",
       "      <th>WORKSITE_STATE</th>\n",
       "      <th>NORMALIZED_PW</th>\n",
       "      <th>NORMALIZED_WAGE_FROM</th>\n",
       "      <th>NORMALIZED_WAGE_TO</th>\n",
       "      <th>SOC_MAJOR_GROUP</th>\n",
       "      <th>NAICS_BROAD</th>\n",
       "    </tr>\n",
       "  </thead>\n",
       "  <tbody>\n",
       "    <tr>\n",
       "      <th>0</th>\n",
       "      <td>CERTIFIED</td>\n",
       "      <td>2018-01-29</td>\n",
       "      <td>2018-02-02</td>\n",
       "      <td>H-1B</td>\n",
       "      <td>2018-07-28</td>\n",
       "      <td>2021-07-27</td>\n",
       "      <td>MICROSOFT CORPORATION</td>\n",
       "      <td>WA</td>\n",
       "      <td>N</td>\n",
       "      <td>15-1132</td>\n",
       "      <td>51121</td>\n",
       "      <td>Y</td>\n",
       "      <td>Year</td>\n",
       "      <td>Level II</td>\n",
       "      <td>Year</td>\n",
       "      <td>N</td>\n",
       "      <td>N</td>\n",
       "      <td>WA</td>\n",
       "      <td>112549.00000</td>\n",
       "      <td>143915.00000</td>\n",
       "      <td>143915.00000</td>\n",
       "      <td>Computer and Mathematical Occupations</td>\n",
       "      <td>Information</td>\n",
       "    </tr>\n",
       "    <tr>\n",
       "      <th>1</th>\n",
       "      <td>CERTIFIED</td>\n",
       "      <td>2017-10-23</td>\n",
       "      <td>2017-10-27</td>\n",
       "      <td>H-1B</td>\n",
       "      <td>2017-11-06</td>\n",
       "      <td>2020-11-06</td>\n",
       "      <td>ERNST &amp; YOUNG U.S. LLP</td>\n",
       "      <td>NJ</td>\n",
       "      <td>Y</td>\n",
       "      <td>13-2011</td>\n",
       "      <td>541211</td>\n",
       "      <td>Y</td>\n",
       "      <td>Year</td>\n",
       "      <td>Level II</td>\n",
       "      <td>Year</td>\n",
       "      <td>N</td>\n",
       "      <td>N</td>\n",
       "      <td>CA</td>\n",
       "      <td>79976.00000</td>\n",
       "      <td>100000.00000</td>\n",
       "      <td>100000.00000</td>\n",
       "      <td>Business and Financial Operations Occupations</td>\n",
       "      <td>Professional, Scientific, and Technical Services</td>\n",
       "    </tr>\n",
       "  </tbody>\n",
       "</table>\n",
       "</div>"
      ],
      "text/plain": [
       "  CASE_STATUS CASE_SUBMITTED DECISION_DATE VISA_CLASS EMPLOYMENT_START_DATE  \\\n",
       "0   CERTIFIED     2018-01-29    2018-02-02       H-1B            2018-07-28   \n",
       "1   CERTIFIED     2017-10-23    2017-10-27       H-1B            2017-11-06   \n",
       "\n",
       "  EMPLOYMENT_END_DATE           EMPLOYER_NAME EMPLOYER_STATE_MAPPED  \\\n",
       "0          2021-07-27   MICROSOFT CORPORATION                    WA   \n",
       "1          2020-11-06  ERNST & YOUNG U.S. LLP                    NJ   \n",
       "\n",
       "  AGENT_REPRESENTING_EMPLOYER SOC_CODE NAICS_CODE FULL_TIME_POSITION  \\\n",
       "0                           N  15-1132      51121                  Y   \n",
       "1                           Y  13-2011     541211                  Y   \n",
       "\n",
       "  PW_UNIT_OF_PAY PW_WAGE_LEVEL WAGE_UNIT_OF_PAY H1B_DEPENDENT  \\\n",
       "0           Year      Level II             Year             N   \n",
       "1           Year      Level II             Year             N   \n",
       "\n",
       "  WILLFUL_VIOLATOR WORKSITE_STATE  NORMALIZED_PW  NORMALIZED_WAGE_FROM  \\\n",
       "0                N             WA   112549.00000          143915.00000   \n",
       "1                N             CA    79976.00000          100000.00000   \n",
       "\n",
       "   NORMALIZED_WAGE_TO                                SOC_MAJOR_GROUP  \\\n",
       "0        143915.00000          Computer and Mathematical Occupations   \n",
       "1        100000.00000  Business and Financial Operations Occupations   \n",
       "\n",
       "                                        NAICS_BROAD  \n",
       "0                                       Information  \n",
       "1  Professional, Scientific, and Technical Services  "
      ]
     },
     "execution_count": 36,
     "metadata": {},
     "output_type": "execute_result"
    }
   ],
   "source": [
    "h1b_dviz_v3b['NAICS_BROAD'] = h1b_dviz_v3b['NAICS_BROAD'].map(naics_code_dict)\n",
    "h1b_dviz_v3b.head(2)"
   ]
  },
  {
   "cell_type": "markdown",
   "metadata": {},
   "source": [
    "**C. Delete original NAICS_CODE**"
   ]
  },
  {
   "cell_type": "code",
   "execution_count": 37,
   "metadata": {},
   "outputs": [
    {
     "data": {
      "text/plain": [
       "(615457, 22)"
      ]
     },
     "execution_count": 37,
     "metadata": {},
     "output_type": "execute_result"
    }
   ],
   "source": [
    "# # Drop original NAICS_CODE\n",
    "h1b_dviz_v3b = h1b_dviz_v3b.drop('NAICS_CODE', axis=1)\n",
    "h1b_dviz_v3b.shape"
   ]
  },
  {
   "cell_type": "code",
   "execution_count": null,
   "metadata": {},
   "outputs": [],
   "source": []
  },
  {
   "cell_type": "code",
   "execution_count": 47,
   "metadata": {},
   "outputs": [
    {
     "data": {
      "text/html": [
       "<div>\n",
       "<style scoped>\n",
       "    .dataframe tbody tr th:only-of-type {\n",
       "        vertical-align: middle;\n",
       "    }\n",
       "\n",
       "    .dataframe tbody tr th {\n",
       "        vertical-align: top;\n",
       "    }\n",
       "\n",
       "    .dataframe thead th {\n",
       "        text-align: right;\n",
       "    }\n",
       "</style>\n",
       "<table border=\"1\" class=\"dataframe\">\n",
       "  <thead>\n",
       "    <tr style=\"text-align: right;\">\n",
       "      <th></th>\n",
       "      <th>CASE_STATUS</th>\n",
       "      <th>CASE_SUBMITTED</th>\n",
       "      <th>DECISION_DATE</th>\n",
       "      <th>VISA_CLASS</th>\n",
       "      <th>EMPLOYMENT_START_DATE</th>\n",
       "      <th>EMPLOYMENT_END_DATE</th>\n",
       "      <th>EMPLOYER_NAME</th>\n",
       "      <th>EMPLOYER_STATE_MAPPED</th>\n",
       "      <th>AGENT_REPRESENTING_EMPLOYER</th>\n",
       "      <th>SOC_CODE</th>\n",
       "      <th>FULL_TIME_POSITION</th>\n",
       "      <th>PW_UNIT_OF_PAY</th>\n",
       "      <th>PW_WAGE_LEVEL</th>\n",
       "      <th>WAGE_UNIT_OF_PAY</th>\n",
       "      <th>H1B_DEPENDENT</th>\n",
       "      <th>WILLFUL_VIOLATOR</th>\n",
       "      <th>WORKSITE_STATE</th>\n",
       "      <th>NORMALIZED_PW</th>\n",
       "      <th>NORMALIZED_WAGE_FROM</th>\n",
       "      <th>NORMALIZED_WAGE_TO</th>\n",
       "      <th>SOC_MAJOR_GROUP</th>\n",
       "      <th>NAICS_BROAD</th>\n",
       "    </tr>\n",
       "  </thead>\n",
       "  <tbody>\n",
       "    <tr>\n",
       "      <th>27</th>\n",
       "      <td>CERTIFIED</td>\n",
       "      <td>2018-03-20</td>\n",
       "      <td>2018-03-26</td>\n",
       "      <td>H-1B</td>\n",
       "      <td>2018-09-19</td>\n",
       "      <td>2021-09-18</td>\n",
       "      <td>TWO95 INTERNATIONAL</td>\n",
       "      <td>NJ</td>\n",
       "      <td>Y</td>\n",
       "      <td>15-1132</td>\n",
       "      <td>Y</td>\n",
       "      <td>Year</td>\n",
       "      <td>Level I</td>\n",
       "      <td>Year</td>\n",
       "      <td>Y</td>\n",
       "      <td>N</td>\n",
       "      <td>PA</td>\n",
       "      <td>70221.00000</td>\n",
       "      <td>72000.00000</td>\n",
       "      <td>72000.00000</td>\n",
       "      <td>Computer and Mathematical Occupations</td>\n",
       "      <td>Professional, Scientific, and Technical Services</td>\n",
       "    </tr>\n",
       "    <tr>\n",
       "      <th>28</th>\n",
       "      <td>CERTIFIED-WITHDRAWN</td>\n",
       "      <td>2018-03-26</td>\n",
       "      <td>2018-05-03</td>\n",
       "      <td>H-1B</td>\n",
       "      <td>2018-07-29</td>\n",
       "      <td>2021-07-28</td>\n",
       "      <td>RESONETICS, LLC</td>\n",
       "      <td>NH</td>\n",
       "      <td>Y</td>\n",
       "      <td>17-2071</td>\n",
       "      <td>Y</td>\n",
       "      <td>Year</td>\n",
       "      <td>Level III</td>\n",
       "      <td>Year</td>\n",
       "      <td>N</td>\n",
       "      <td>N</td>\n",
       "      <td>NH</td>\n",
       "      <td>104998.00000</td>\n",
       "      <td>105000.00000</td>\n",
       "      <td>115000.00000</td>\n",
       "      <td>Architecture and Engineering Occupations</td>\n",
       "      <td>Professional, Scientific, and Technical Services</td>\n",
       "    </tr>\n",
       "    <tr>\n",
       "      <th>29</th>\n",
       "      <td>CERTIFIED</td>\n",
       "      <td>2018-03-12</td>\n",
       "      <td>2018-03-16</td>\n",
       "      <td>H-1B</td>\n",
       "      <td>2018-09-11</td>\n",
       "      <td>2021-09-11</td>\n",
       "      <td>ALTIMETRIK CORP</td>\n",
       "      <td>MI</td>\n",
       "      <td>Y</td>\n",
       "      <td>15-1132</td>\n",
       "      <td>Y</td>\n",
       "      <td>Year</td>\n",
       "      <td>Level II</td>\n",
       "      <td>Year</td>\n",
       "      <td>Y</td>\n",
       "      <td>N</td>\n",
       "      <td>MI</td>\n",
       "      <td>78874.00000</td>\n",
       "      <td>78874.00000</td>\n",
       "      <td>95000.00000</td>\n",
       "      <td>Computer and Mathematical Occupations</td>\n",
       "      <td>Professional, Scientific, and Technical Services</td>\n",
       "    </tr>\n",
       "  </tbody>\n",
       "</table>\n",
       "</div>"
      ],
      "text/plain": [
       "            CASE_STATUS CASE_SUBMITTED DECISION_DATE VISA_CLASS  \\\n",
       "27            CERTIFIED     2018-03-20    2018-03-26       H-1B   \n",
       "28  CERTIFIED-WITHDRAWN     2018-03-26    2018-05-03       H-1B   \n",
       "29            CERTIFIED     2018-03-12    2018-03-16       H-1B   \n",
       "\n",
       "   EMPLOYMENT_START_DATE EMPLOYMENT_END_DATE        EMPLOYER_NAME  \\\n",
       "27            2018-09-19          2021-09-18  TWO95 INTERNATIONAL   \n",
       "28            2018-07-29          2021-07-28      RESONETICS, LLC   \n",
       "29            2018-09-11          2021-09-11      ALTIMETRIK CORP   \n",
       "\n",
       "   EMPLOYER_STATE_MAPPED AGENT_REPRESENTING_EMPLOYER SOC_CODE  \\\n",
       "27                    NJ                           Y  15-1132   \n",
       "28                    NH                           Y  17-2071   \n",
       "29                    MI                           Y  15-1132   \n",
       "\n",
       "   FULL_TIME_POSITION PW_UNIT_OF_PAY PW_WAGE_LEVEL WAGE_UNIT_OF_PAY  \\\n",
       "27                  Y           Year       Level I             Year   \n",
       "28                  Y           Year     Level III             Year   \n",
       "29                  Y           Year      Level II             Year   \n",
       "\n",
       "   H1B_DEPENDENT WILLFUL_VIOLATOR WORKSITE_STATE  NORMALIZED_PW  \\\n",
       "27             Y                N             PA    70221.00000   \n",
       "28             N                N             NH   104998.00000   \n",
       "29             Y                N             MI    78874.00000   \n",
       "\n",
       "    NORMALIZED_WAGE_FROM  NORMALIZED_WAGE_TO  \\\n",
       "27           72000.00000         72000.00000   \n",
       "28          105000.00000        115000.00000   \n",
       "29           78874.00000         95000.00000   \n",
       "\n",
       "                             SOC_MAJOR_GROUP  \\\n",
       "27     Computer and Mathematical Occupations   \n",
       "28  Architecture and Engineering Occupations   \n",
       "29     Computer and Mathematical Occupations   \n",
       "\n",
       "                                         NAICS_BROAD  \n",
       "27  Professional, Scientific, and Technical Services  \n",
       "28  Professional, Scientific, and Technical Services  \n",
       "29  Professional, Scientific, and Technical Services  "
      ]
     },
     "execution_count": 47,
     "metadata": {},
     "output_type": "execute_result"
    }
   ],
   "source": [
    "h1b_dviz_v3b.iloc[27:30]"
   ]
  },
  {
   "cell_type": "markdown",
   "metadata": {},
   "source": [
    "<a href='#Table of Contents'>Back to Table of Contents</a>"
   ]
  },
  {
   "cell_type": "markdown",
   "metadata": {},
   "source": [
    "<a id='Cleaned Dataset Output'></a>\n",
    "____\n",
    "\n",
    "### 3. Saving the Cleaned Dataset\n",
    "\n",
    "To learn more, refer to previous notebook (ch.5) \n"
   ]
  },
  {
   "cell_type": "markdown",
   "metadata": {},
   "source": [
    "**A. Function from previous notebook to get dataframe column types**"
   ]
  },
  {
   "cell_type": "code",
   "execution_count": 38,
   "metadata": {},
   "outputs": [],
   "source": [
    "def get_col_dtypes(df):\n",
    "    dtypes = df.dtypes\n",
    "\n",
    "    col_name = dtypes.index                      # name of the column \n",
    "    col_types = [i.name for i in dtypes.values]  # datatype of the column\n",
    "\n",
    "    # # Save column name and types into a dictionary \n",
    "    # # {name: type}\n",
    "    column_types = dict(zip(col_name, col_types))\n",
    "    return column_types"
   ]
  },
  {
   "cell_type": "markdown",
   "metadata": {},
   "source": [
    "**B. Save final dataframe to a csv file**"
   ]
  },
  {
   "cell_type": "code",
   "execution_count": 39,
   "metadata": {},
   "outputs": [],
   "source": [
    "# # Cleaned Dataset (with optimized datatypes)\n",
    "h1b_dviz_v3b.to_csv(\"data/H-1B_Feature_Creation_Clean.csv\", index=False)"
   ]
  },
  {
   "cell_type": "markdown",
   "metadata": {},
   "source": [
    "**C. Save necessary parameter info into a dictionary (column types / final columns etc.)**"
   ]
  },
  {
   "cell_type": "code",
   "execution_count": 40,
   "metadata": {},
   "outputs": [],
   "source": [
    "# # LIST of final columns\n",
    "final_columns = list(h1b_dviz_v3b.columns)"
   ]
  },
  {
   "cell_type": "code",
   "execution_count": 41,
   "metadata": {},
   "outputs": [],
   "source": [
    "# # LIST of date columns\n",
    "# # Also a TUPLE of date columns so that I can remove these keys from dictionary\n",
    "date_col_list = ['CASE_SUBMITTED', 'DECISION_DATE', 'EMPLOYMENT_START_DATE', 'EMPLOYMENT_END_DATE']\n",
    "date_col_tuple = tuple(date_col_list)   # Remember to use 'date_col_list' \n",
    "                                        # date_columns is already defined above from the cleaning step"
   ]
  },
  {
   "cell_type": "code",
   "execution_count": 42,
   "metadata": {},
   "outputs": [],
   "source": [
    "# # DICTIONARY of {column: column types} for h1b cleaned dataset (using function above)\n",
    "col_type_dict = get_col_dtypes(h1b_dviz_v3b)"
   ]
  },
  {
   "cell_type": "code",
   "execution_count": 43,
   "metadata": {},
   "outputs": [],
   "source": [
    "# # Column dtypes dictionary without date columns\n",
    "for k in date_col_tuple:\n",
    "    col_type_dict.pop(k, None)\n",
    "    \n",
    "# len(col_type_dict)\n",
    "# col_type_dict"
   ]
  },
  {
   "cell_type": "code",
   "execution_count": 44,
   "metadata": {},
   "outputs": [],
   "source": [
    "# # Create dictionary for JSON file format conversion\n",
    "\n",
    "cleaned_params_dict = {}\n",
    "\n",
    "cleaned_params_dict['col_types'] = col_type_dict\n",
    "cleaned_params_dict['date_cols'] = date_col_list\n",
    "cleaned_params_dict['final_cols'] = final_columns"
   ]
  },
  {
   "cell_type": "markdown",
   "metadata": {},
   "source": [
    "**D. Save parameters into a JSON file**\n"
   ]
  },
  {
   "cell_type": "code",
   "execution_count": 45,
   "metadata": {},
   "outputs": [],
   "source": [
    "# convert to json format\n",
    "import json \n",
    "\n",
    "with open('data/H-1B_Feature_Creation_Cleaned_Params.json', 'w') as fp:\n",
    "    json.dump(cleaned_params_dict, fp)  # convert dict as a json file format! "
   ]
  },
  {
   "cell_type": "markdown",
   "metadata": {},
   "source": [
    "#### END OF NOTEBOOK\n",
    "<a href='#Top'>Back to Top</a>"
   ]
  },
  {
   "cell_type": "code",
   "execution_count": null,
   "metadata": {},
   "outputs": [],
   "source": []
  }
 ],
 "metadata": {
  "kernelspec": {
   "display_name": "Python 3",
   "language": "python",
   "name": "python3"
  },
  "language_info": {
   "codemirror_mode": {
    "name": "ipython",
    "version": 3
   },
   "file_extension": ".py",
   "mimetype": "text/x-python",
   "name": "python",
   "nbconvert_exporter": "python",
   "pygments_lexer": "ipython3",
   "version": "3.6.8"
  }
 },
 "nbformat": 4,
 "nbformat_minor": 2
}
